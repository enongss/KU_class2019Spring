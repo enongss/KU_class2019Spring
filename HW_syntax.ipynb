{
 "cells": [
  {
   "cell_type": "code",
   "execution_count": null,
   "metadata": {},
   "outputs": [],
   "source": [
    "a = [1, 2, 3, 4]\n",
    "for i in a:\n",
    "    print(i)"
   ]
  },
  {
   "cell_type": "markdown",
   "metadata": {},
   "source": [
    "##### for loop 사용 / a 안에 있는 것을 i에 넣음 -> 순서대로 출력됨"
   ]
  },
  {
   "cell_type": "code",
   "execution_count": null,
   "metadata": {},
   "outputs": [],
   "source": [
    "range(4)"
   ]
  },
  {
   "cell_type": "markdown",
   "metadata": {},
   "source": [
    "##### range(4)는 0, 1, 2, 3을 의미함 / index는 처음을 0번째로 침"
   ]
  },
  {
   "cell_type": "code",
   "execution_count": null,
   "metadata": {},
   "outputs": [],
   "source": [
    "a = [1, 2, 3, 4]\n",
    "for i in range(4):\n",
    "    print(a[i])"
   ]
  },
  {
   "cell_type": "markdown",
   "metadata": {},
   "source": [
    "##### i에는 range(0,4), 즉 0, 1, 2, 3이 들어감 / a[0], a[1], a[2], a[3]이 순서대로 출력됨"
   ]
  },
  {
   "cell_type": "code",
   "execution_count": null,
   "metadata": {},
   "outputs": [],
   "source": [
    "a = ['red', 'green', 'blue', 'purple']\n",
    "for i in a:\n",
    "    print(i)"
   ]
  },
  {
   "cell_type": "markdown",
   "metadata": {},
   "source": [
    "##### a 안의 원소가 순서대로 출력됨"
   ]
  },
  {
   "cell_type": "code",
   "execution_count": null,
   "metadata": {},
   "outputs": [],
   "source": [
    "a = ['red', 'green', 'blue', 'purple']\n",
    "for i in range(len(a)):\n",
    "    print(a[i])"
   ]
  },
  {
   "cell_type": "markdown",
   "metadata": {},
   "source": [
    "##### len(a)는 a의 개수를 출력하는 함수로, 여기서는 4 / 결과적으로 range(len(a)) = range(4), 0, 1, 2, 3이 i에 들어감 / a[0], a[1], a[2], a[3]이 순서대로 출력됨"
   ]
  },
  {
   "cell_type": "code",
   "execution_count": null,
   "metadata": {},
   "outputs": [],
   "source": [
    "a = [\"red\", \"green\", \"blue\", \"purple\"]\n",
    "b = [0.2, 0.3, 0.1, 0.4]\n",
    "for i, a in enumerate(a):\n",
    "    print(\"{}: {}%\".format(a, b[i]*100))"
   ]
  },
  {
   "cell_type": "markdown",
   "metadata": {},
   "source": [
    "##### enumerate는 페어로 된 두 데이터를 연결할 때 사용함 / for i, a in enumerate(a) : i에 range(len(a))를 주고 a는 그대로 a를 받음 / format(a, b[i]*100)에서 첫번째 { }에는 a, 두번째 { }에는 b[i]*100이 들어감"
   ]
  },
  {
   "cell_type": "code",
   "execution_count": null,
   "metadata": {},
   "outputs": [],
   "source": [
    "a = [\"red\", \"green\", \"blue\", \"purple\"]\n",
    "b = [0.2, 0.3, 0.1, 0.4]\n",
    "for a_, b_ in zip(a, b):\n",
    "    print(\"{}: {}%\".format(a_, b_*100))"
   ]
  },
  {
   "cell_type": "markdown",
   "metadata": {},
   "source": [
    "##### zip(a,b)는 a와 b를 순서대로 묶음 / a_, b_는 뒤의 zip(a, b)의 a, b와 구별하기 위함"
   ]
  },
  {
   "cell_type": "code",
   "execution_count": null,
   "metadata": {},
   "outputs": [],
   "source": [
    "a = [\"one\", \"two\", \"three\"]\n",
    "b = [0.1, 0.2, 0.3]\n",
    "for c, d in zip(a, b):\n",
    "    print(\"{}: {}%\".format(c, d*100))"
   ]
  },
  {
   "cell_type": "markdown",
   "metadata": {},
   "source": [
    "##### c와 d는 zip(a, b)의 a와 b를 받음"
   ]
  },
  {
   "cell_type": "code",
   "execution_count": null,
   "metadata": {},
   "outputs": [],
   "source": [
    "a = 0\n",
    "if a == 0:\n",
    "    print(a)\n",
    "else:\n",
    "     print(a+1)"
   ]
  },
  {
   "cell_type": "markdown",
   "metadata": {},
   "source": [
    "##### if 구문 / a라는 변수에 특정 값을 넣는 것은 =, 같음을 표현할 때는 == / a가 0이면 a를 출력하고, 그렇지 않은 경우 a에 1을 더해서 출력함"
   ]
  },
  {
   "cell_type": "code",
   "execution_count": null,
   "metadata": {},
   "outputs": [],
   "source": [
    "for i in range(1, 3):\n",
    "    for j in range(3, 5):\n",
    "        print(i*j)"
   ]
  },
  {
   "cell_type": "markdown",
   "metadata": {},
   "source": [
    "##### i에 1과 2를 넣고, j에 3과 4를 넣음 / i*j의 모든 결과를 출력함 "
   ]
  },
  {
   "cell_type": "code",
   "execution_count": null,
   "metadata": {},
   "outputs": [],
   "source": [
    "for i in range(1, 3):\n",
    "    for j in range(3, 5):\n",
    "        if j >=4:\n",
    "            print(i*j)"
   ]
  },
  {
   "cell_type": "markdown",
   "metadata": {},
   "source": [
    "##### i에 1과 2를 넣고, j에 3과 4를 넣음 / j가 4 이상일 떄 i*j를 출력함 "
   ]
  },
  {
   "cell_type": "code",
   "execution_count": null,
   "metadata": {},
   "outputs": [],
   "source": [
    "a = [1, 2, 3, 4]\n",
    "b = [i for i in a if i >=2]\n",
    "b"
   ]
  },
  {
   "cell_type": "markdown",
   "metadata": {},
   "source": [
    "##### for과 if 구문을 한 문장에 넣음 -> python의 장점! / b의 실행 순서 : for i in a -> if i >=2 -> i / i에 1, 2, 3, 4 -> i가 2 이상인 경우 -> b = [2, 3, 4]"
   ]
  },
  {
   "cell_type": "code",
   "execution_count": null,
   "metadata": {},
   "outputs": [],
   "source": [
    "a = ['red', 'green', 'blue', 'purple']\n",
    "b = [i for i in a if len(i) >=4]\n",
    "b"
   ]
  },
  {
   "cell_type": "markdown",
   "metadata": {},
   "source": [
    "##### i에 'red', 'green', 'blue', 'purple' -> len(i)가 4 이상인 경우 -> i = ['green', 'blue', 'purple']"
   ]
  },
  {
   "cell_type": "code",
   "execution_count": null,
   "metadata": {},
   "outputs": [],
   "source": []
  }
 ],
 "metadata": {
  "kernelspec": {
   "display_name": "Python 3",
   "language": "python",
   "name": "python3"
  },
  "language_info": {
   "codemirror_mode": {
    "name": "ipython",
    "version": 3
   },
   "file_extension": ".py",
   "mimetype": "text/x-python",
   "name": "python",
   "nbconvert_exporter": "python",
   "pygments_lexer": "ipython3",
   "version": "3.7.1"
  }
 },
 "nbformat": 4,
 "nbformat_minor": 2
}

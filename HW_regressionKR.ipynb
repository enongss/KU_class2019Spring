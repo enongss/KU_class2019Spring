{
 "cells": [
  {
   "cell_type": "markdown",
   "metadata": {},
   "source": [
    "# PPT"
   ]
  },
  {
   "cell_type": "markdown",
   "metadata": {},
   "source": [
    "##### 벡터 * 행렬 = 벡터\n",
    "##### EX) [2 -1 3 1] * [1 5 ; 2 6 ; 3 7 ; 4 8] = [13 33]\n",
    "##### EX2) 벡터(수면시간, 운동시간, 칼로리 섭취량) -함수(행렬)-> 벡터(체중, 혈압)\n",
    "##### 행렬을 만들기 위해서는 많은 데이터가 필요함 (빅데이터)\n",
    "##### <사례1> 수면시간 8시간, 운동시간 0시간, 칼로리 섭취량 2500kcal -> 체중 80kg, 혈압 150\n",
    "##### .... <사례10000> 수면시간 6시간, 운동시간 3시간, 칼로리 섭취량 1100kcal -> 체중 55kg, 혈압 90\n",
    "##### 먼저 행렬에 아무 값이나 넣음 -> 예측값과 정답을 비교해서 차이만큼 행렬값을 조정하기 -> 사례10000까지 이 과정을 반복함(epoch)\n",
    "##### 입력-출력 사이에 층위를 더할 수도 있음! (벡터 -행렬-> 벡터 -행렬-> 벡터) 딥러닝은 이런 벡터 층위들을 많이 넣은 것!\n",
    "##### 응용 : 음성인식, 음성합성, 위기경보, 스팸필터, 감정분석, 바둑, 그림변형, 로봇제어, 자동번역, 얼굴인식, 문자인식, 경제예측\n",
    "##### 요약 : 인공지능의 대표선수가 인공 신경망, 어떤 입력을 출력으로 예측하는 함수, 입력과 출력은 벡터, 함수는 행렬, 데이터만 있으면 행렬을 추정해낼 수 있음, 이 행렬 자체가 인공신경망!\n",
    "\n",
    "##### ax1 + bx2 + c = y 에서 입력은 2개, 출력은 1개! (동그라미가 세 개 있다고 해서 입력이 3개가 아님!)\n",
    "##### 입력 출력 개수를 정함 -> 동그라미 그림을 구현함 "
   ]
  },
  {
   "cell_type": "markdown",
   "metadata": {},
   "source": [
    "# import modules"
   ]
  },
  {
   "cell_type": "code",
   "execution_count": 1,
   "metadata": {},
   "outputs": [
    {
     "name": "stdout",
     "output_type": "stream",
     "text": [
      "\n",
      "The following command must be run outside of the IPython shell:\n",
      "\n",
      "    $ pip install tensorflow\n",
      "\n",
      "The Python package manager (pip) can only be used from outside of IPython.\n",
      "Please reissue the `pip` command in a separate terminal or command prompt.\n",
      "\n",
      "See the Python documentation for more information on how to install packages:\n",
      "\n",
      "    https://docs.python.org/3/installing/\n"
     ]
    }
   ],
   "source": [
    "pip install tensorflow"
   ]
  },
  {
   "cell_type": "code",
   "execution_count": null,
   "metadata": {},
   "outputs": [],
   "source": [
    "import pandas as pd\n",
    "import numpy as np\n",
    "import matplotlib.pyplot as plt\n",
    "\n",
    "from tensorflow.keras.models import Sequential\n",
    "from tensorflow.keras.layers import Dense"
   ]
  },
  {
   "cell_type": "markdown",
   "metadata": {},
   "source": [
    "# data preparation and visualization"
   ]
  },
  {
   "cell_type": "code",
   "execution_count": null,
   "metadata": {},
   "outputs": [],
   "source": [
    "data = pd.read_csv('regression.csv')\n",
    "X = data['X']\n",
    "Y = data['Y']\n",
    "plt.plot(X, Y, '.')"
   ]
  },
  {
   "cell_type": "markdown",
   "metadata": {},
   "source": [
    "##### data라는 변수에 regression.csv가 담겨 있는 상태!\n",
    "##### data에 있는 X coloumn과 Y coloumn을 각각 받아줌\n",
    "##### visualization을 하니 눈으로는 확인할 수 없었던 패턴이 보임\n",
    "\n",
    "##### pd.read_csv('파일 이름')\n",
    "##### plot을 해주는 모듈은 matplotlib.pyplot, 행렬의 형태로 만들어주는 것은 numpy\n",
    "##### a, b 값을 구하는 것 자체가 데이터를 가장 잘 설명하는 선을 구하는 것!\n",
    "##### x1, x2, y가 있는 3차원 공간에서 a, b, c값이 구해진다고 하면? 무한대로 나가는 평면이 구해지는 것!"
   ]
  },
  {
   "cell_type": "markdown",
   "metadata": {},
   "source": [
    "# create model"
   ]
  },
  {
   "cell_type": "code",
   "execution_count": null,
   "metadata": {
    "scrolled": true
   },
   "outputs": [],
   "source": [
    "model = Sequential()\n",
    "model.add(Dense(1, input_shape=[1]))\n",
    "model.compile(optimizer=\"sgd\", loss='mse')"
   ]
  },
  {
   "cell_type": "markdown",
   "metadata": {},
   "source": [
    "##### 입력 벡터에서 출력 벡터로 가는 것이 하나의 sequence가 됨\n",
    "##### Dense의 입력 부분에서 1은 Y의 개수(출력부, 출력차원)이고, input_shape의 1은 X의 개수(입력부, 입력차원)이다! -> 즉, Y=aX+b!\n",
    "##### 마지막 줄의 sgd는 오차를 반복해서 줄이는 과정을 표현한 것이고, mse는 출력분과 실제 정답 부분의 차이를 mean squared error로 표현한 것\n",
    "\n",
    "##### 식을 세우는 것 자체를 model이라고 함 (ax+b = y)\n",
    "##### model.add(Dense(1, input_shape=[1])) 이 한줄이 ax+b = y의 동그라미 그림을 만들어 주는 것!\n",
    "##### x가 2개면 shape = [1]에 [2]를 적고, y가 2개면 1에 2를 적으면 됨!\n",
    "##### x와 y가 모두 연결되어 있으면 fully connected 됐다고 하고, 이를 Dense라 함. 그런데 몇 개 빠져서 듬성듬성한 모델이 발달한 것이 있고, 이는 뒤에 가서 배울 것!\n",
    "##### sgd : 예측값과 정답 간의 차이를 살펴보고 차이만큼을 a, b에 다시 반영해 주는 반복 과정 (차이를 가지고 어떻게 parameter를 바꿀 것인지 정함)\n",
    "##### loss : 예측값과 정답의 차이를 단순히 반영하는 것이 아니라, mean squared error를 구하는 것 (차이를 정의함)"
   ]
  },
  {
   "cell_type": "markdown",
   "metadata": {},
   "source": [
    "# train model"
   ]
  },
  {
   "cell_type": "code",
   "execution_count": null,
   "metadata": {
    "scrolled": true
   },
   "outputs": [],
   "source": [
    "model.fit(X, Y, epochs = 1000)"
   ]
  },
  {
   "cell_type": "markdown",
   "metadata": {},
   "source": [
    "##### X와 Y의 값을 fit해주고 반복훈련을 통해 a와 b값을 받음!\n",
    "\n",
    "##### model.fit([X,Y])라고 쓰면 안 됨!\n",
    "##### 한번이 아니라 여러번 하자! -> epochs = 1000 붙이기\n",
    "##### loss가 작아지면 선이 점점 가운데로 향함\n",
    "##### learning 과정 : epochs가 1->2로 갈때도 loss가 푹 떨어짐! 그렇게 1000까지 가면 유효숫자가 나올 때까지 loss가 떨어지고, 이걸 '수렴'한다고 표현함"
   ]
  },
  {
   "cell_type": "markdown",
   "metadata": {},
   "source": [
    "# model prediction"
   ]
  },
  {
   "cell_type": "code",
   "execution_count": null,
   "metadata": {},
   "outputs": [],
   "source": [
    "x = [1, 2, 3, 4, 5, 6, 7, 8, 9, 10]\n",
    "y = model.predict(x)\n",
    "plt.plot(X, Y, '.')\n",
    "plt.plot(x, y, 'rx')"
   ]
  },
  {
   "cell_type": "markdown",
   "metadata": {},
   "source": [
    "##### 예측을 하는데 아까 훈련시킨 model에 x값만 넣어주면 y값이 나옴! (print(y)를 통해서 확인해보기)\n",
    "##### 두개의 plot을 비교함 (r을 붙이면 빨간색으로 나옴)\n",
    "##### plot에서 prediction을 하는 부분은 무조건 일직선으로 나옴. 이 선을 보니 기존의 데이터를 잘 설명하고 있다는 것을 알 수 있음.\n",
    "\n",
    "##### model prediction은 a, b를 구하면서 model이 딱 정해진 상태에서, x값을 줘서 y값을 얻는 것을 말함\n",
    "##### x에 임의로 값을 주고 model.predict(x)를 통해 y값을 구함"
   ]
  },
  {
   "cell_type": "markdown",
   "metadata": {},
   "source": [
    "# what are a and b in y = ax + b?"
   ]
  },
  {
   "cell_type": "code",
   "execution_count": null,
   "metadata": {},
   "outputs": [],
   "source": [
    "weight = model.layers[0].get_weights()\n",
    "print(weight)"
   ]
  },
  {
   "cell_type": "markdown",
   "metadata": {},
   "source": [
    "##### a와 b 값을 구하는 방법\n",
    "##### [0]을 붙이는 것은 화살표 덩어리에서 여러개의 a와 b가 있을 수 있는데 그 중 첫번째 값을 불러오는 것!\n",
    "##### 이 값을 weight라는 변수에 담음 -> 출력하면 list안에 array의 형태로 나옴 (확인해보기!)\n",
    "\n",
    "##### 수학적으로 a와 b 값이 궁금하면 이 식을 통해 알 수 있음!\n",
    "##### layer는 동그라미 그림에서 coloumn에 있는 여러 동그라미들을 말함 (층위) -> 여기서는 하나만 만들었음\n",
    "##### 첫번째 layer에서 weights(parameter값, 화살표값)를 모두 가져오라는 의미 -> 여기서는 a, b 두개를 가져옴"
   ]
  },
  {
   "cell_type": "code",
   "execution_count": null,
   "metadata": {},
   "outputs": [],
   "source": []
  }
 ],
 "metadata": {
  "kernelspec": {
   "display_name": "Python 3",
   "language": "python",
   "name": "python3"
  },
  "language_info": {
   "codemirror_mode": {
    "name": "ipython",
    "version": 3
   },
   "file_extension": ".py",
   "mimetype": "text/x-python",
   "name": "python",
   "nbconvert_exporter": "python",
   "pygments_lexer": "ipython3",
   "version": "3.7.1"
  }
 },
 "nbformat": 4,
 "nbformat_minor": 2
}

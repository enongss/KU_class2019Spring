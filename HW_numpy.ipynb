{
 "cells": [
  {
   "cell_type": "markdown",
   "metadata": {},
   "source": [
    "# NumPy basics"
   ]
  },
  {
   "cell_type": "markdown",
   "metadata": {},
   "source": [
    "## 1. Creation"
   ]
  },
  {
   "cell_type": "code",
   "execution_count": 4,
   "metadata": {},
   "outputs": [],
   "source": [
    "import numpy as np\n",
    "import matplotlib.pyplot as plt"
   ]
  },
  {
   "cell_type": "markdown",
   "metadata": {},
   "source": [
    "##### 마지막은 ploting을 위한 줄"
   ]
  },
  {
   "cell_type": "code",
   "execution_count": 5,
   "metadata": {},
   "outputs": [
    {
     "data": {
      "text/plain": [
       "array([[         0, 1072168960,          0],\n",
       "       [1072168960,          0,          0]])"
      ]
     },
     "execution_count": 5,
     "metadata": {},
     "output_type": "execute_result"
    }
   ],
   "source": [
    "np.empty([2,3], dtype='int')"
   ]
  },
  {
   "cell_type": "markdown",
   "metadata": {},
   "source": [
    "##### [n,m]이면 직사각형, [n,m,p]면 직육면체\n",
    "##### np.empty는 np에서 빈 행렬을 하나 만드는 것, dtype는 type를 지정해주는 것"
   ]
  },
  {
   "cell_type": "code",
   "execution_count": 6,
   "metadata": {},
   "outputs": [
    {
     "data": {
      "text/plain": [
       "array([[0., 0., 0.],\n",
       "       [0., 0., 0.]])"
      ]
     },
     "execution_count": 6,
     "metadata": {},
     "output_type": "execute_result"
    }
   ],
   "source": [
    "np.zeros([2,3])"
   ]
  },
  {
   "cell_type": "markdown",
   "metadata": {},
   "source": [
    "##### 큰 bracket이 하나 있고 그 속에 작은 bracket이 두 개 들어있음. bracket이 하나면 1차원, 두개면 2차원, 세개면 3차원.\n",
    "##### zeros는 모두 0으로 채우는 것"
   ]
  },
  {
   "cell_type": "code",
   "execution_count": 7,
   "metadata": {},
   "outputs": [
    {
     "data": {
      "text/plain": [
       "array([0., 2., 4., 6., 8.])"
      ]
     },
     "execution_count": 7,
     "metadata": {},
     "output_type": "execute_result"
    }
   ],
   "source": [
    "np.arange(0,10,2, dtype='float64')"
   ]
  },
  {
   "cell_type": "markdown",
   "metadata": {},
   "source": [
    "##### 0부터 10까지 2만큼 더하면서 가라는 뜻! 앞의 0은 반드시 포함하고 뒤의 10은 절대 포함하면 안 됨!\n",
    "##### dtype을 float 또는 float64로 해놨기 때문에 뒤에 .이 붙음. float64는 소숫점이 더 길어진다고 생각하면 됨."
   ]
  },
  {
   "cell_type": "code",
   "execution_count": 8,
   "metadata": {},
   "outputs": [
    {
     "data": {
      "text/plain": [
       "array([ 0.,  2.,  4.,  6.,  8., 10.])"
      ]
     },
     "execution_count": 8,
     "metadata": {},
     "output_type": "execute_result"
    }
   ],
   "source": [
    "np.linspace(0,10,6, dtype=float)"
   ]
  },
  {
   "cell_type": "markdown",
   "metadata": {},
   "source": [
    "##### linspace는 0부터 10까지 총 6개(등분)를 만들라는 뜻! 앞의 0과 뒤의 10 모두 포함함!"
   ]
  },
  {
   "cell_type": "code",
   "execution_count": 9,
   "metadata": {},
   "outputs": [
    {
     "data": {
      "text/plain": [
       "[[1, 2, 3], [4, 5, 6]]"
      ]
     },
     "execution_count": 9,
     "metadata": {},
     "output_type": "execute_result"
    }
   ],
   "source": [
    "[[1,2,3],[4,5,6]]"
   ]
  },
  {
   "cell_type": "markdown",
   "metadata": {},
   "source": [
    "##### 이건 단순히 list"
   ]
  },
  {
   "cell_type": "code",
   "execution_count": 10,
   "metadata": {},
   "outputs": [
    {
     "data": {
      "text/plain": [
       "array([[1, 2, 3],\n",
       "       [4, 5, 6]])"
      ]
     },
     "execution_count": 10,
     "metadata": {},
     "output_type": "execute_result"
    }
   ],
   "source": [
    "X = np.array([[1,2,3],[4,5,6]])\n",
    "X"
   ]
  },
  {
   "cell_type": "markdown",
   "metadata": {},
   "source": [
    "##### list를 array화 시킴\n",
    "##### type은 .안 찍혀 있으니 int"
   ]
  },
  {
   "cell_type": "code",
   "execution_count": 11,
   "metadata": {},
   "outputs": [
    {
     "data": {
      "text/plain": [
       "array([[1., 2., 3.],\n",
       "       [4., 5., 6.]])"
      ]
     },
     "execution_count": 11,
     "metadata": {},
     "output_type": "execute_result"
    }
   ],
   "source": [
    "X.astype(np.float64)"
   ]
  },
  {
   "cell_type": "markdown",
   "metadata": {},
   "source": [
    "##### astype은 type을 바꾸고 싶을 때 사용함"
   ]
  },
  {
   "cell_type": "code",
   "execution_count": 12,
   "metadata": {},
   "outputs": [
    {
     "data": {
      "text/plain": [
       "array([[0, 0, 0],\n",
       "       [0, 0, 0]])"
      ]
     },
     "execution_count": 12,
     "metadata": {},
     "output_type": "execute_result"
    }
   ],
   "source": [
    "np.zeros_like(X)"
   ]
  },
  {
   "cell_type": "markdown",
   "metadata": {},
   "source": [
    "##### 위에서 사용했던 X를 zero화 시킴. 왜 하는지는 모름;;"
   ]
  },
  {
   "cell_type": "code",
   "execution_count": 13,
   "metadata": {},
   "outputs": [
    {
     "name": "stdout",
     "output_type": "stream",
     "text": [
      "[-0.68453836 -0.03978735  2.1588741  -0.75970828  0.85954116 -0.60738299\n",
      "  0.30892668 -0.38317375  0.51393404  0.0869897   0.02492055  0.92826983\n",
      "  0.1617316   0.13409856 -0.56546596  0.57466594 -1.08668888  0.75740868\n",
      "  0.24364085  0.70623256 -0.48250854  1.20921739  0.07034251  0.77473878\n",
      " -0.51503237 -0.45912834 -0.48765349  1.01482356 -0.49095491  0.91706412\n",
      " -1.54436105 -0.42966686 -0.89486191  0.50792788  0.43027276  0.44042241\n",
      " -0.31012208 -0.2178565   1.66116668 -0.2538756   2.22710344  0.10892247\n",
      "  0.78235363 -0.15681303  0.84559464  0.4365869   0.21555299  0.27638979\n",
      " -0.54831609 -0.39769892  1.40446942 -0.11212404 -1.60475639  1.4830308\n",
      " -0.20650463  0.48555348  0.74944883  1.00555155  0.6810715   1.0421796\n",
      "  0.00471923  0.07116687  0.57639499  0.45774556  1.69689757 -1.14084614\n",
      "  1.1116325   0.42470025 -0.53542084 -0.01514778  0.3270444   1.33362402\n",
      "  0.47151821 -1.11198678  1.18912319  1.07651127  0.52450997 -0.9462017\n",
      "  1.75371567 -0.175661    0.39441742  0.05199581  0.59559539  1.00876145\n",
      "  0.18376557  0.21993374 -0.53826943 -0.28709925  1.42269082 -0.64818227\n",
      "  0.06035697 -0.83130831 -0.38071752  0.15182332  0.35010563  0.97298484\n",
      "  0.72168165  0.48500174 -0.2117269   1.18193069]\n"
     ]
    },
    {
     "data": {
      "image/png": "[encoded data removed]",
      "text/plain": [
       "<Figure size 432x288 with 1 Axes>"
      ]
     },
     "metadata": {
      "needs_background": "light"
     },
     "output_type": "display_data"
    }
   ],
   "source": [
    "data = np.random.normal(0,1, 100)\n",
    "print(data)\n",
    "plt.hist(data, bins=10)\n",
    "plt.show()"
   ]
  },
  {
   "cell_type": "markdown",
   "metadata": {},
   "source": [
    "##### random은 0을 평균값(mean)으로 하고 1을 표준편차(std)로 해 100개의 random number를 만들라는 뜻! normal 함수는 정규분포를 그리는 함수 (0부분이 많이 나옴)\n",
    "##### 맨 처음 import matplotlib.pyplot as plt 에서 plt를 사용함\n",
    "##### hist는 히스토그램을 만드는 것. 각각의 bin은 range로 생각하면 되고, 바구니의 개수임. 30으로 하면 더 촘촘히 됨!"
   ]
  },
  {
   "cell_type": "markdown",
   "metadata": {},
   "source": [
    "## 2. Manipulation"
   ]
  },
  {
   "cell_type": "code",
   "execution_count": null,
   "metadata": {},
   "outputs": [],
   "source": []
  },
  {
   "cell_type": "code",
   "execution_count": null,
   "metadata": {},
   "outputs": [],
   "source": []
  },
  {
   "cell_type": "code",
   "execution_count": null,
   "metadata": {},
   "outputs": [],
   "source": []
  },
  {
   "cell_type": "code",
   "execution_count": null,
   "metadata": {},
   "outputs": [],
   "source": []
  },
  {
   "cell_type": "code",
   "execution_count": null,
   "metadata": {},
   "outputs": [],
   "source": []
  },
  {
   "cell_type": "code",
   "execution_count": null,
   "metadata": {},
   "outputs": [],
   "source": []
  },
  {
   "cell_type": "code",
   "execution_count": null,
   "metadata": {},
   "outputs": [],
   "source": []
  },
  {
   "cell_type": "code",
   "execution_count": null,
   "metadata": {},
   "outputs": [],
   "source": []
  },
  {
   "cell_type": "code",
   "execution_count": null,
   "metadata": {},
   "outputs": [],
   "source": []
  }
 ],
 "metadata": {
  "kernelspec": {
   "display_name": "Python 3",
   "language": "python",
   "name": "python3"
  },
  "language_info": {
   "codemirror_mode": {
    "name": "ipython",
    "version": 3
   },
   "file_extension": ".py",
   "mimetype": "text/x-python",
   "name": "python",
   "nbconvert_exporter": "python",
   "pygments_lexer": "ipython3",
   "version": "3.7.1"
  }
 },
 "nbformat": 4,
 "nbformat_minor": 2
}
